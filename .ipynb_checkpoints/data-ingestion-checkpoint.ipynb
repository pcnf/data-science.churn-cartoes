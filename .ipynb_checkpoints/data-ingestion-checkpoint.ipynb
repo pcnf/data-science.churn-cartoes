{
 "cells": [
  {
   "cell_type": "code",
   "execution_count": 2,
   "id": "f2b430af-225b-43fc-b88a-891bdbe6ddb1",
   "metadata": {
    "tags": []
   },
   "outputs": [],
   "source": [
    "import pandas as pd\n",
    "import awswrangler as wr\n",
    "from pyhive import trino\n",
    "from getpass import getpass"
   ]
  },
  {
   "cell_type": "code",
   "execution_count": 3,
   "id": "6a06002a-6bbb-4684-b0a2-01dfa6284ce1",
   "metadata": {
    "tags": []
   },
   "outputs": [
    {
     "name": "stdin",
     "output_type": "stream",
     "text": [
      "Insert your User u00xxxx:  ········\n",
      "Insert password:  ········\n"
     ]
    },
    {
     "name": "stdout",
     "output_type": "stream",
     "text": [
      "<pyhive.trino.Connection object at 0x7ff07c4e6dc0>\n"
     ]
    }
   ],
   "source": [
    "conn = trino.connect(\n",
    "    host = 'trino.de.in.devneon.com.br',\n",
    "    port = 443,\n",
    "    protocol = 'https',\n",
    "    username = getpass('Insert your User u00xxxx: '),  \n",
    "    password = getpass('Insert password: '),\n",
    ")\n",
    "print(conn)"
   ]
  },
  {
   "cell_type": "markdown",
   "id": "72fe1375-5ce2-4ffb-9939-9aef4e8f6fb8",
   "metadata": {
    "tags": []
   },
   "source": [
    "### Plano de Modelagem:\n",
    "\n",
    "Obter 60 dias de uso dos cartões em uma janela: Mês 1 + Mês 2 e saber, ao final do mês 3 quem estava em churn.\n",
    "\n",
    "Features a testar:\n",
    "- Uso dos cartões - Qtd usos e valores\n",
    "- Idade\n",
    "- Região [not used]\n",
    "- Renda presumida\n",
    "- GH\n",
    "- Limite_cartao [not used]\n",
    "- Limite atual [not used]\n",
    "- Debitos pagos e nao pagos no cartão [not used]\n",
    "- Possui Empréstimo Pessoal [not used\n",
    "- Já foi Conta Principal [not used]\n",
    "- MGM [not used]\n",
    "- PIX in e PIX out -Qtd usos e valores [not used]\n",
    "\n"
   ]
  },
  {
   "cell_type": "markdown",
   "id": "0e516703-b76b-4fa9-89e9-1ff138510ee0",
   "metadata": {},
   "source": [
    "Esquema de obtenção de dados:\n",
    "https://docs.google.com/presentation/d/1LJK6x1oKJPyWeXIfGAfuHUYSopnk8nw-EwWEdN1_sxg/edit#slide=id.p"
   ]
  },
  {
   "cell_type": "code",
   "execution_count": 24,
   "id": "d62be95a-ffc4-4a11-b4c5-ff8d83f16669",
   "metadata": {
    "tags": []
   },
   "outputs": [],
   "source": [
    "start = '2023-06-01'\n",
    "end = '2023-07-31'\n",
    "date_origin = '2023-08-31'"
   ]
  },
  {
   "cell_type": "code",
   "execution_count": 14,
   "id": "d2d72bd6-7907-44b9-899c-a026a23440cc",
   "metadata": {
    "tags": []
   },
   "outputs": [],
   "source": [
    "querie_uso_cartoes = f\"\"\"\n",
    "SELECT\n",
    "\tclientid,\n",
    "\tconvertedvalue,\n",
    "\ttransactiondate\n",
    "FROM hive.data_processed.operacoes_diaria\n",
    "WHERE operationstatus = 'EFETIVADO' \n",
    "AND product = 'CARTAO CREDITO'\n",
    "AND subproduct in ('FISICO CREDITO NACIONAL', \n",
    "\t\t\t\t\t'VIRTUAL CREDITO NACIONAL', \n",
    "\t\t\t\t\t'FISICO CREDITO INTERNACIONAL',\n",
    "\t\t\t\t\t'VIRTUAL CREDITO INTERNACIONAL')\n",
    "AND transactiondate between date '{start}' and date '{end}'\n",
    "\"\"\""
   ]
  },
  {
   "cell_type": "code",
   "execution_count": 15,
   "id": "6a921dc1-993f-485a-aa45-e999230034f9",
   "metadata": {
    "tags": []
   },
   "outputs": [],
   "source": [
    "df_uso_cartoes = pd.read_sql(querie_uso_cartoes, conn)"
   ]
  },
  {
   "cell_type": "code",
   "execution_count": 16,
   "id": "8c1a2d84-5b6c-4ba5-88cc-a949aa509145",
   "metadata": {
    "tags": []
   },
   "outputs": [
    {
     "data": {
      "text/plain": [
       "{'paths': ['s3://neon-datascience-sandbox/churn-cartoes/uso_cartoes'],\n",
       " 'partitions_values': {}}"
      ]
     },
     "execution_count": 16,
     "metadata": {},
     "output_type": "execute_result"
    }
   ],
   "source": [
    "wr.s3.to_parquet(df_cartoes,'s3://neon-datascience-sandbox/churn-cartoes/uso_cartoes')"
   ]
  },
  {
   "cell_type": "code",
   "execution_count": 21,
   "id": "5c20d57a-5259-4587-8896-a6c81691bd04",
   "metadata": {
    "tags": []
   },
   "outputs": [],
   "source": [
    "querie_churn_rev = f\"\"\"\n",
    "WITH client_transacao AS (\n",
    "  SELECT\n",
    "    clientid,\n",
    "    MAX(transactiondate) AS ultima_transacao\n",
    "  FROM\n",
    "    data_processed.operacoes_diaria\n",
    "  GROUP BY\n",
    "    clientid\n",
    "),\n",
    "tempo_sem_transacao AS (\n",
    "  SELECT\n",
    "    ct.clientid,\n",
    "    CASE\n",
    "      WHEN DATE_DIFF('DAY', ct.ultima_transacao, reference_date) >= 30\n",
    "        AND DATE_DIFF('DAY', ct.ultima_transacao, reference_date) < 60 THEN\n",
    "        DATE_DIFF('DAY', ct.ultima_transacao, reference_date)\n",
    "      ELSE\n",
    "        NULL\n",
    "    END AS tempo_sem_transacao,\n",
    "    CASE\n",
    "      WHEN DATE_DIFF('DAY', ct.ultima_transacao, reference_date) >= 30\n",
    "        AND DATE_DIFF('DAY', ct.ultima_transacao, reference_date) < 60 THEN\n",
    "        1\n",
    "      ELSE\n",
    "        0\n",
    "    END AS churn_flag\n",
    "  FROM\n",
    "    client_transacao ct\n",
    "    CROSS JOIN (SELECT CAST('{date_origin}' AS DATE) AS reference_date) r -- Substitua 'your_reference_date' pela sua data de referência\n",
    ")\n",
    "SELECT\n",
    "  clientid,\n",
    "  tempo_sem_transacao,\n",
    "  churn_flag\n",
    "FROM\n",
    "  tempo_sem_transacao\n",
    "WHERE\n",
    "  tempo_sem_transacao IS NOT NULL\n",
    "\"\"\""
   ]
  },
  {
   "cell_type": "code",
   "execution_count": 22,
   "id": "f2cef35c-c3b3-4feb-8a30-431a434b4333",
   "metadata": {
    "tags": []
   },
   "outputs": [],
   "source": [
    "df_churn = pd.read_sql(querie_churn_rev, conn)"
   ]
  },
  {
   "cell_type": "code",
   "execution_count": 23,
   "id": "0cd14e82-f74c-41f8-8154-1c905baaa4a0",
   "metadata": {
    "tags": []
   },
   "outputs": [
    {
     "data": {
      "text/plain": [
       "{'paths': ['s3://neon-datascience-sandbox/churn-cartoes/churn'],\n",
       " 'partitions_values': {}}"
      ]
     },
     "execution_count": 23,
     "metadata": {},
     "output_type": "execute_result"
    }
   ],
   "source": [
    "wr.s3.to_parquet(df_churn,'s3://neon-datascience-sandbox/churn-cartoes/churn')"
   ]
  },
  {
   "cell_type": "code",
   "execution_count": 10,
   "id": "800fda52-61e0-4810-b1f8-d351cd169b0a",
   "metadata": {
    "tags": []
   },
   "outputs": [],
   "source": [
    "querie_dimension = f\"\"\"\n",
    "SELECT\n",
    "\tclientid,\n",
    "\tpresumedincome,\n",
    "\tage,\n",
    "\tageneon\n",
    "FROM hive.neondw_bi.dimension_client\n",
    "WHERE clientstatus = 'Ativo'\n",
    "AND persontype = 'PF'\n",
    "\"\"\""
   ]
  },
  {
   "cell_type": "code",
   "execution_count": 11,
   "id": "48dc9957-bbb2-4e48-8a30-669ed01f52f7",
   "metadata": {
    "tags": []
   },
   "outputs": [],
   "source": [
    "df_dimension = pd.read_sql(querie_dimension, conn)"
   ]
  },
  {
   "cell_type": "code",
   "execution_count": 12,
   "id": "b8e2fce3-74c1-4846-9bd7-645ee9ad9c67",
   "metadata": {
    "tags": []
   },
   "outputs": [
    {
     "data": {
      "text/plain": [
       "{'paths': ['s3://neon-datascience-sandbox/churn-cartoes/dimension'],\n",
       " 'partitions_values': {}}"
      ]
     },
     "execution_count": 12,
     "metadata": {},
     "output_type": "execute_result"
    }
   ],
   "source": [
    "wr.s3.to_parquet(df_dimension,'s3://neon-datascience-sandbox/churn-cartoes/dimension')"
   ]
  },
  {
   "cell_type": "code",
   "execution_count": 13,
   "id": "54b51eaa-349c-4ab6-b9c6-18dd0266f692",
   "metadata": {
    "tags": []
   },
   "outputs": [],
   "source": [
    "querie_gh = f\"\"\"\n",
    "SELECT\n",
    "    clientid,\n",
    "    CASE\n",
    "        WHEN score <= 1 THEN NULL\n",
    "        WHEN score <= 33 THEN 10\n",
    "        WHEN score <= 44 THEN 9\n",
    "        WHEN score <= 60 THEN 8\n",
    "        WHEN score <= 70 THEN 7\n",
    "        WHEN score <= 82 THEN 6\n",
    "        WHEN score <= 106 THEN 5\n",
    "        WHEN score <= 125 THEN 4\n",
    "        WHEN score <= 152 THEN 3\n",
    "        WHEN score <= 202 THEN 2\n",
    "    ELSE 1\n",
    "    END AS GH_VL\n",
    "FROM hive.boavista.customizado_neon_v2 A\n",
    "LEFT JOIN neondw_bi.dimension_client B ON A.document_nu = B.cpf_cnpj\n",
    "WHERE reference_date BETWEEN date '{start}' and date '{end}'\n",
    "AND persontype = 'PF'\n",
    "\"\"\""
   ]
  },
  {
   "cell_type": "code",
   "execution_count": 14,
   "id": "de5e6438-9168-49d2-973e-489a8d68c30d",
   "metadata": {
    "tags": []
   },
   "outputs": [],
   "source": [
    "df_gh = pd.read_sql(querie_gh, conn)"
   ]
  },
  {
   "cell_type": "code",
   "execution_count": 15,
   "id": "967b021e-fbb8-4417-b54f-c006afbc5abe",
   "metadata": {
    "tags": []
   },
   "outputs": [
    {
     "data": {
      "text/plain": [
       "{'paths': ['s3://neon-datascience-sandbox/churn-cartoes/gh'],\n",
       " 'partitions_values': {}}"
      ]
     },
     "execution_count": 15,
     "metadata": {},
     "output_type": "execute_result"
    }
   ],
   "source": [
    "wr.s3.to_parquet(df_gh,'s3://neon-datascience-sandbox/churn-cartoes/gh')"
   ]
  },
  {
   "cell_type": "code",
   "execution_count": 4,
   "id": "8c91f518-b294-4a68-8c7c-3b1954bff47e",
   "metadata": {
    "tags": []
   },
   "outputs": [],
   "source": [
    "querie_viracredito = f\"\"\"\n",
    "SELECT \n",
    "\tidcliente as clientid,\n",
    "\t1 as tem_viracredito\n",
    "FROM refined.products.cards_crdt_card_viracredito_fact\n",
    "WHERE flag in ('Concessão', 'Aumento de limite')\n",
    "AND engagement_ccc_dt <= date '{end}'\n",
    "\"\"\"\n",
    "\n",
    "querie_aumento_viracredito = f\"\"\"\n",
    "SELECT\n",
    "\tidcliente as clientid,\n",
    "\t1 as atualizou_viracredito\n",
    "FROM refined.products.cards_crdt_card_viracredito_fact\n",
    "WHERE ultima_att_limite between date '{start}' and date '{end}'\n",
    "\"\"\""
   ]
  },
  {
   "cell_type": "code",
   "execution_count": null,
   "id": "86c0bd02-8890-4034-bb90-a2fde60d3052",
   "metadata": {
    "tags": []
   },
   "outputs": [],
   "source": [
    "df_viracredito = pd.read_sql(querie_viracredito, conn)"
   ]
  },
  {
   "cell_type": "code",
   "execution_count": null,
   "id": "113adc93-bf3e-4681-9f09-60ec910ffa27",
   "metadata": {
    "tags": []
   },
   "outputs": [],
   "source": [
    "df_viracredito_aumento = pd.read_sql(querie_aumento_viracredito , conn)"
   ]
  }
 ],
 "metadata": {
  "kernelspec": {
   "display_name": "Python [conda env:datalake]",
   "language": "python",
   "name": "conda-env-datalake-py"
  },
  "language_info": {
   "codemirror_mode": {
    "name": "ipython",
    "version": 3
   },
   "file_extension": ".py",
   "mimetype": "text/x-python",
   "name": "python",
   "nbconvert_exporter": "python",
   "pygments_lexer": "ipython3",
   "version": "3.8.8"
  }
 },
 "nbformat": 4,
 "nbformat_minor": 5
}
