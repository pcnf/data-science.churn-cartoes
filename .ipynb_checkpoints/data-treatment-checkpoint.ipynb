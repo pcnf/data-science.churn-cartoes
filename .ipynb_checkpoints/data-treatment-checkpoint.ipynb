{
 "cells": [
  {
   "cell_type": "code",
   "execution_count": 2,
   "id": "2bd055e7-8a88-4453-8370-302acead39ca",
   "metadata": {
    "tags": []
   },
   "outputs": [],
   "source": [
    "import pandas as pd\n",
    "import awswrangler as wr"
   ]
  },
  {
   "cell_type": "code",
   "execution_count": 3,
   "id": "179881f6-a95a-454d-bfe1-01130e947988",
   "metadata": {
    "tags": []
   },
   "outputs": [
    {
     "name": "stdout",
     "output_type": "stream",
     "text": [
      "<class 'pandas.core.frame.DataFrame'>\n",
      "RangeIndex: 35721396 entries, 0 to 35721395\n",
      "Data columns (total 3 columns):\n",
      " #   Column           Dtype  \n",
      "---  ------           -----  \n",
      " 0   clientid         Int64  \n",
      " 1   convertedvalue   float64\n",
      " 2   transactiondate  string \n",
      "dtypes: Int64(1), float64(1), string(1)\n",
      "memory usage: 851.7 MB\n"
     ]
    }
   ],
   "source": [
    "df_uso_cartoes = wr.s3.read_parquet('s3://neon-datascience-sandbox/churn-cartoes/uso_cartoes')\n",
    "df_uso_cartoes.info()"
   ]
  },
  {
   "cell_type": "code",
   "execution_count": 4,
   "id": "dc65e1d3-5c3a-4717-87f7-1dad65ff8d5e",
   "metadata": {
    "tags": []
   },
   "outputs": [
    {
     "data": {
      "text/html": [
       "<div>\n",
       "<style scoped>\n",
       "    .dataframe tbody tr th:only-of-type {\n",
       "        vertical-align: middle;\n",
       "    }\n",
       "\n",
       "    .dataframe tbody tr th {\n",
       "        vertical-align: top;\n",
       "    }\n",
       "\n",
       "    .dataframe thead th {\n",
       "        text-align: right;\n",
       "    }\n",
       "</style>\n",
       "<table border=\"1\" class=\"dataframe\">\n",
       "  <thead>\n",
       "    <tr style=\"text-align: right;\">\n",
       "      <th></th>\n",
       "      <th>clientid</th>\n",
       "      <th>convertedvalue</th>\n",
       "      <th>transactiondate</th>\n",
       "    </tr>\n",
       "  </thead>\n",
       "  <tbody>\n",
       "    <tr>\n",
       "      <th>0</th>\n",
       "      <td>2395260</td>\n",
       "      <td>63.61</td>\n",
       "      <td>2023-06-05</td>\n",
       "    </tr>\n",
       "    <tr>\n",
       "      <th>1</th>\n",
       "      <td>12717494</td>\n",
       "      <td>35.16</td>\n",
       "      <td>2023-06-05</td>\n",
       "    </tr>\n",
       "    <tr>\n",
       "      <th>2</th>\n",
       "      <td>5271752</td>\n",
       "      <td>49.32</td>\n",
       "      <td>2023-06-05</td>\n",
       "    </tr>\n",
       "  </tbody>\n",
       "</table>\n",
       "</div>"
      ],
      "text/plain": [
       "   clientid  convertedvalue transactiondate\n",
       "0   2395260           63.61      2023-06-05\n",
       "1  12717494           35.16      2023-06-05\n",
       "2   5271752           49.32      2023-06-05"
      ]
     },
     "execution_count": 4,
     "metadata": {},
     "output_type": "execute_result"
    }
   ],
   "source": [
    "df_uso_cartoes.head(3)"
   ]
  },
  {
   "cell_type": "code",
   "execution_count": 5,
   "id": "e73b3113-d11e-43a0-9499-b369e1241077",
   "metadata": {
    "tags": []
   },
   "outputs": [
    {
     "data": {
      "text/html": [
       "<div>\n",
       "<style scoped>\n",
       "    .dataframe tbody tr th:only-of-type {\n",
       "        vertical-align: middle;\n",
       "    }\n",
       "\n",
       "    .dataframe tbody tr th {\n",
       "        vertical-align: top;\n",
       "    }\n",
       "\n",
       "    .dataframe thead th {\n",
       "        text-align: right;\n",
       "    }\n",
       "</style>\n",
       "<table border=\"1\" class=\"dataframe\">\n",
       "  <thead>\n",
       "    <tr style=\"text-align: right;\">\n",
       "      <th></th>\n",
       "      <th>convertedvalue</th>\n",
       "      <th>transactiondate</th>\n",
       "    </tr>\n",
       "    <tr>\n",
       "      <th>clientid</th>\n",
       "      <th></th>\n",
       "      <th></th>\n",
       "    </tr>\n",
       "  </thead>\n",
       "  <tbody>\n",
       "    <tr>\n",
       "      <th>57</th>\n",
       "      <td>735.123925</td>\n",
       "      <td>186</td>\n",
       "    </tr>\n",
       "    <tr>\n",
       "      <th>59</th>\n",
       "      <td>42.249231</td>\n",
       "      <td>13</td>\n",
       "    </tr>\n",
       "    <tr>\n",
       "      <th>96</th>\n",
       "      <td>93.015526</td>\n",
       "      <td>38</td>\n",
       "    </tr>\n",
       "    <tr>\n",
       "      <th>98</th>\n",
       "      <td>22.743571</td>\n",
       "      <td>14</td>\n",
       "    </tr>\n",
       "    <tr>\n",
       "      <th>106</th>\n",
       "      <td>18.476667</td>\n",
       "      <td>6</td>\n",
       "    </tr>\n",
       "    <tr>\n",
       "      <th>...</th>\n",
       "      <td>...</td>\n",
       "      <td>...</td>\n",
       "    </tr>\n",
       "    <tr>\n",
       "      <th>24739526</th>\n",
       "      <td>400.000000</td>\n",
       "      <td>1</td>\n",
       "    </tr>\n",
       "    <tr>\n",
       "      <th>24739582</th>\n",
       "      <td>101.666667</td>\n",
       "      <td>3</td>\n",
       "    </tr>\n",
       "    <tr>\n",
       "      <th>24739666</th>\n",
       "      <td>4.490000</td>\n",
       "      <td>1</td>\n",
       "    </tr>\n",
       "    <tr>\n",
       "      <th>24739683</th>\n",
       "      <td>18.490000</td>\n",
       "      <td>1</td>\n",
       "    </tr>\n",
       "    <tr>\n",
       "      <th>24739799</th>\n",
       "      <td>4.200000</td>\n",
       "      <td>2</td>\n",
       "    </tr>\n",
       "  </tbody>\n",
       "</table>\n",
       "<p>2371183 rows × 2 columns</p>\n",
       "</div>"
      ],
      "text/plain": [
       "          convertedvalue  transactiondate\n",
       "clientid                                 \n",
       "57            735.123925              186\n",
       "59             42.249231               13\n",
       "96             93.015526               38\n",
       "98             22.743571               14\n",
       "106            18.476667                6\n",
       "...                  ...              ...\n",
       "24739526      400.000000                1\n",
       "24739582      101.666667                3\n",
       "24739666        4.490000                1\n",
       "24739683       18.490000                1\n",
       "24739799        4.200000                2\n",
       "\n",
       "[2371183 rows x 2 columns]"
      ]
     },
     "execution_count": 5,
     "metadata": {},
     "output_type": "execute_result"
    }
   ],
   "source": [
    "df_uso_cartoes.groupby('clientid').agg({\n",
    "    \n",
    "    'convertedvalue':'mean',\n",
    "    'transactiondate':'count'\n",
    "\n",
    "})"
   ]
  },
  {
   "cell_type": "code",
   "execution_count": null,
   "id": "5e219b0f-d0a7-4689-9328-f33d84843383",
   "metadata": {},
   "outputs": [],
   "source": []
  }
 ],
 "metadata": {
  "kernelspec": {
   "display_name": "Python [conda env:datalake]",
   "language": "python",
   "name": "conda-env-datalake-py"
  },
  "language_info": {
   "codemirror_mode": {
    "name": "ipython",
    "version": 3
   },
   "file_extension": ".py",
   "mimetype": "text/x-python",
   "name": "python",
   "nbconvert_exporter": "python",
   "pygments_lexer": "ipython3",
   "version": "3.8.8"
  }
 },
 "nbformat": 4,
 "nbformat_minor": 5
}
